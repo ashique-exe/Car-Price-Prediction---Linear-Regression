{
 "cells": [
  {
   "cell_type": "markdown",
   "id": "5c87c532-cff8-494d-9115-2c1bc04f4698",
   "metadata": {},
   "source": [
    "# *Car Price Prediction - Linear Regression...!\n"
   ]
  },
  {
   "cell_type": "code",
   "execution_count": 2,
   "id": "62601b64-7836-4724-9844-e193d2ee1755",
   "metadata": {},
   "outputs": [],
   "source": [
    "import pandas as pd\n",
    "import numpy as np\n",
    "import matplotlib.pyplot as plt\n",
    "import seaborn as sns\n",
    "from sklearn.model_selection import train_test_split, RandomizedSearchCV, cross_val_score\n",
    "from sklearn.experimental import enable_iterative_imputer\n",
    "from sklearn.impute import IterativeImputer, SimpleImputer"
   ]
  },
  {
   "cell_type": "code",
   "execution_count": 3,
   "id": "e7d8a40d-9cf2-4363-b6ff-eb767870f09c",
   "metadata": {},
   "outputs": [],
   "source": [
    "# Loading Datas\n",
    "train_df = pd.read_csv('train.csv')\n",
    "index_col = 'id'\n",
    "test_df = pd.read_csv('test.csv')"
   ]
  },
  {
   "cell_type": "code",
   "execution_count": 4,
   "id": "3a5b46d9-5a6f-47c6-ae16-cc835e48b7c1",
   "metadata": {},
   "outputs": [
    {
     "name": "stdout",
     "output_type": "stream",
     "text": [
      "train data shape (188533, 13)\n",
      "test data shape (125690, 12)\n"
     ]
    }
   ],
   "source": [
    "print(\"train data shape\", train_df.shape)\n",
    "print(\"test data shape\", test_df.shape)"
   ]
  },
  {
   "cell_type": "code",
   "execution_count": 5,
   "id": "f8e28c02-3115-4a90-adb2-2ab3974e03b4",
   "metadata": {
    "scrolled": true
   },
   "outputs": [
    {
     "ename": "NameError",
     "evalue": "name 'df' is not defined",
     "output_type": "error",
     "traceback": [
      "\u001b[1;31m---------------------------------------------------------------------------\u001b[0m",
      "\u001b[1;31mNameError\u001b[0m                                 Traceback (most recent call last)",
      "Cell \u001b[1;32mIn[5], line 1\u001b[0m\n\u001b[1;32m----> 1\u001b[0m df\u001b[38;5;241m.\u001b[39mrename(columns\u001b[38;5;241m=\u001b[39m{df\u001b[38;5;241m.\u001b[39mcolumns[\u001b[38;5;241m1\u001b[39m] : \u001b[38;5;124m\"\u001b[39m\u001b[38;5;124mBrand\u001b[39m\u001b[38;5;124m\"\u001b[39m})\n",
      "\u001b[1;31mNameError\u001b[0m: name 'df' is not defined"
     ]
    }
   ],
   "source": [
    "df.rename(columns={df.columns[1] : \"Brand\"})\n"
   ]
  },
  {
   "cell_type": "code",
   "execution_count": null,
   "id": "4ef3d3f8-d2f6-48ae-9c95-481dcdaa9620",
   "metadata": {},
   "outputs": [],
   "source": [
    "\n"
   ]
  },
  {
   "cell_type": "code",
   "execution_count": null,
   "id": "9f164093-4955-426c-a673-934b18223267",
   "metadata": {},
   "outputs": [],
   "source": [
    "\n",
    "missing_values = train_df.isnull().sum()/train_df.shape[0] * 100\n",
    "print(\"\\nTrain Data Missing Values:\\n\\n\", missing_values)\n",
    "\n",
    "# Filter only columns with missing values\n",
    "missing_values = missing_values[missing_values > 0]\n",
    "\n",
    "# Plotting the missing values\n",
    "plt.figure(figsize=(10, 6))\n",
    "sns.barplot(x=missing_values.index, y=missing_values.values, palette=\"viridis\", hue=missing_values.index, legend=False)\n",
    "plt.xticks(rotation=90)\n",
    "plt.title('Percentage of Missing Values per Column', fontsize=16)\n",
    "plt.xlabel('Features', fontsize=12)\n",
    "plt.ylabel('Percentage (%)', fontsize=12)\n",
    "plt.show()"
   ]
  },
  {
   "cell_type": "code",
   "execution_count": null,
   "id": "4f1f43f5-0cde-4aef-bc49-9305790cd6d6",
   "metadata": {},
   "outputs": [],
   "source": [
    "missing_values = test_df.isnull().sum()/test_df.shape[0] * 100\n",
    "print(\"\\nTest Data Missing Values:\\n\\n\", missing_values)\n",
    "\n",
    "# Filter only columns with missing values\n",
    "missing_values = missing_values[missing_values > 0]\n",
    "\n",
    "# Plotting the missing values\n",
    "plt.figure(figsize=(10, 6))\n",
    "sns.barplot(x=missing_values.index, y=missing_values.values, palette=\"viridis\")\n",
    "\n",
    "plt.xticks(rotation=90)\n",
    "plt.title('Percentage of Missing Values per Column', fontsize=16)\n",
    "plt.xlabel('Features', fontsize=12)\n",
    "plt.ylabel('Percentage (%)', fontsize=12)\n",
    "plt.show()"
   ]
  },
  {
   "cell_type": "code",
   "execution_count": null,
   "id": "54ff9275-7442-4e0d-abe6-510c14a65361",
   "metadata": {},
   "outputs": [],
   "source": []
  },
  {
   "cell_type": "code",
   "execution_count": null,
   "id": "1c193310-ffe8-45b4-8ff5-1ac1c3b787f2",
   "metadata": {},
   "outputs": [],
   "source": [
    "# \n",
    "#Fuel Type Column Missing Value\n",
    "train_df['fuel_type'] = train_df['fuel_type'].fillna('Electricity')\n",
    "test_df['fuel_type'] = test_df['fuel_type'].fillna('Electricity')"
   ]
  },
  {
   "cell_type": "code",
   "execution_count": null,
   "id": "342133a6-dd57-461c-85f3-671bdcaa0f6a",
   "metadata": {},
   "outputs": [],
   "source": [
    "train_df.head()"
   ]
  },
  {
   "cell_type": "code",
   "execution_count": null,
   "id": "d6abd176-ff22-4a3e-a253-b97069e9af71",
   "metadata": {},
   "outputs": [],
   "source": [
    "#Title Column Missing Value\n",
    "train_df[\"clean_title\"] = train_df['clean_title'].fillna('No')\n",
    "test_df[\"clean_title\"] = test_df['clean_title'].fillna('No')\n"
   ]
  },
  {
   "cell_type": "code",
   "execution_count": null,
   "id": "7903060f-9de2-4c1d-b4ed-be7ee9358f1d",
   "metadata": {
    "scrolled": true
   },
   "outputs": [],
   "source": [
    "train_df[\"accident\"] = train_df['accident'].fillna('non reported')\n",
    "\n",
    "test_df[\"accident\"] = test_df['accident'].fillna('non reported')"
   ]
  },
  {
   "cell_type": "code",
   "execution_count": null,
   "id": "0711373d-f88a-4c13-a565-157eb46bfc6a",
   "metadata": {},
   "outputs": [],
   "source": [
    "import re\n",
    "def extract_engine_features(df):\n",
    "    # Extract Horsepower\n",
    "    df['Horsepower'] = df['engine'].apply(lambda x: float(re.search(r'(\\d+(\\.\\d+)?)HP', x).group(1)) if re.search(r'(\\d+(\\.\\d+)?)HP', x) else None)\n",
    "\n",
    "    # Extract Displacement\n",
    "    df['Displacement'] = df['engine'].apply(lambda x: float(re.search(r'(\\d+\\.\\d+)L|(\\d+\\.\\d+) Liter', x).group(1) or re.search(r'(\\d+\\.\\d+)L|(\\d+\\.\\d+) Liter', x).group(2)) if re.search(r'(\\d+\\.\\d+)L|(\\d+\\.\\d+) Liter', x) else None)\n",
    "\n",
    "    # Extract Engine Type\n",
    "    df['Engine Type'] = df['engine'].apply(lambda x: re.search(r'(V\\d+|I\\d+|Flat \\d+|Straight \\d+)', x).group(1) if re.search(r'(V\\d+|I\\d+|Flat \\d+|Straight \\d+)', x) else None)\n",
    "\n",
    "    # Extract Cylinder Count\n",
    "    df['Cylinder Count'] = df['engine'].apply(lambda x: int(re.search(r'(\\d+) Cylinder', x).group(1)) if re.search(r'(\\d+) Cylinder', x) else None)\n",
    "\n",
    "    # Extract Fuel Type\n",
    "    fuel_types = ['Gasoline', 'Diesel', 'Electric', 'Hybrid', 'Flex Fuel']\n",
    "    df['Fuel Type'] = df['engine'].apply(lambda x: next((fuel for fuel in fuel_types if fuel in x), None))\n",
    "    \n",
    "    return df\n",
    "\n",
    "# Applying the function to both train and test datasets\n",
    "train_df = extract_engine_features(train_df)\n",
    "test_df = extract_engine_features(test_df)"
   ]
  },
  {
   "cell_type": "code",
   "execution_count": null,
   "id": "60d958e0-ead9-4b4e-b420-2ad53ab99bb2",
   "metadata": {},
   "outputs": [],
   "source": [
    "\n",
    "#Extracting Model Age from Model year column¶\n",
    "import datetime\n",
    "current_year = datetime.datetime.now().year\n",
    "train_df['model_age'] = current_year - train_df['model_year']\n",
    "test_df['model_age'] = current_year - test_df['model_year']\n",
    "train_df.head()\n"
   ]
  },
  {
   "cell_type": "code",
   "execution_count": null,
   "id": "fbc562ed-5b8f-44a5-87a5-27014719f5fe",
   "metadata": {},
   "outputs": [],
   "source": [
    "# Drop unnecessary Columns\n",
    "columns_to_drop = ['engine', 'model','model_year', 'Engine Type', 'Fuel Type']\n",
    "train_df.drop(columns=[col for col in columns_to_drop if col in train_df])\n",
    "test_df.drop(columns=[col for col in columns_to_drop if col in test_df])"
   ]
  },
  {
   "cell_type": "code",
   "execution_count": null,
   "id": "34979d2f-790f-43a1-ba11-5719ce0eef97",
   "metadata": {},
   "outputs": [],
   "source": [
    "from sklearn.model_selection import train_test_split, RandomizedSearchCV, cross_val_score\n",
    "from sklearn.experimental import enable_iterative_imputer\n",
    "from sklearn.impute import IterativeImputer, SimpleImputer\n",
    "#Handling Missing values for new columns\n",
    "# Iterative Imputer: Limit max iterations and increase tolerance\n",
    "imputer = IterativeImputer(max_iter=10, tol=1e-3, random_state=0)\n",
    "\n",
    "# Apply only to relevant columns that require more sophisticated imputation\n",
    "train_df[['Horsepower', 'Displacement']] = imputer.fit_transform(train_df[['Horsepower', 'Displacement']])\n",
    "test_df[['Horsepower', 'Displacement']] = imputer.transform(test_df[['Horsepower', 'Displacement']])\n",
    "\n",
    "# Simple Imputer for less complex columns\n",
    "simple_imputer = SimpleImputer(strategy='mean')\n",
    "train_df['Cylinder Count'] = simple_imputer.fit_transform(train_df[['Cylinder Count']])\n",
    "test_df['Cylinder Count'] = simple_imputer.transform(test_df[['Cylinder Count']])"
   ]
  },
  {
   "cell_type": "code",
   "execution_count": null,
   "id": "74888dfb-3fc4-4c9d-9d58-4321705b6595",
   "metadata": {},
   "outputs": [],
   "source": [
    "# transmission \n",
    "\n",
    "def map_transmission(transmission):\n",
    "    # Standardize the input\n",
    "    transmission = transmission.strip().lower()\n",
    "    \n",
    "    if any(kw in transmission for kw in ['a/t', 'automatic']):\n",
    "        return 'Automatic'\n",
    "    elif any(kw in transmission for kw in ['m/t', 'manual']):\n",
    "        return 'Manual'\n",
    "    elif any(kw in transmission for kw in ['cvt', 'variator']):\n",
    "        return 'Variator'\n",
    "    elif any(kw in transmission for kw in ['tiptronic']):\n",
    "        return 'Tiptronic'\n",
    "    else:\n",
    "        return 'Other'\n",
    "\n",
    "# Apply the function to the DataFrame\n",
    "train_df['transmission'] = train_df['transmission'].apply(map_transmission)\n",
    "test_df['transmission'] = test_df['transmission'].apply(map_transmission)\n",
    "\n",
    "print(train_df['transmission'].value_counts())\n",
    "print('='*20)\n",
    "print(test_df['transmission'].value_counts())"
   ]
  },
  {
   "cell_type": "code",
   "execution_count": null,
   "id": "151015d4-f989-4e03-a3f7-1cd568153100",
   "metadata": {},
   "outputs": [],
   "source": [
    "#\n",
    "#Mapping Accident,Clean Title and Transmission column¶\n",
    "def mapping_columns(df):\n",
    "    # Replace values in the 'accident' column\n",
    "    df[\"accident\"] = df[\"accident\"].replace({\n",
    "        'At least 1 accident or damage reported': 1,\n",
    "        'None reported': 0\n",
    "    })\n",
    "    \n",
    "    # Replace values in the 'clean_title' column\n",
    "    df[\"clean_title\"] = df[\"clean_title\"].replace({\n",
    "        \"Yes\": 1,\n",
    "        \"No\": 0\n",
    "    })\n",
    "    \n",
    "    # Replace values in the 'transmission' column\n",
    "    df[\"transmission\"] = df[\"transmission\"].replace({'Automatic':1,\n",
    "                                                'Manual':2,\n",
    "                                                'Variator':3,\n",
    "                                                'Other':4})\n",
    "\n",
    "    return df\n",
    "\n",
    "train_df = mapping_columns(train_df)\n",
    "test_df = mapping_columns(test_df)\n"
   ]
  },
  {
   "cell_type": "markdown",
   "id": "a38f5754-ec45-4976-83ac-f4d65075748e",
   "metadata": {},
   "source": [
    "## Handling Categorical Value\n"
   ]
  },
  {
   "cell_type": "code",
   "execution_count": null,
   "id": "c9906df2-1ffa-49f4-8727-1f0e63c62fb9",
   "metadata": {},
   "outputs": [],
   "source": []
  },
  {
   "cell_type": "code",
   "execution_count": null,
   "id": "b33b6b66-fe73-450e-b879-5cfe9d64ab99",
   "metadata": {},
   "outputs": [],
   "source": [
    "from sklearn.preprocessing import StandardScaler, OneHotEncoder, LabelEncoder\n",
    "from sklearn.compose import ColumnTransformer\n",
    "from sklearn.pipeline import Pipeline\n",
    "from sklearn.impute import SimpleImputer\n",
    "from sklearn.metrics import mean_squared_error, r2_score\n",
    "from sklearn.linear_model import LinearRegression, ElasticNet\n",
    "\n",
    "# Encoding categorical variables\n",
    "categorical_columns = ['brand', 'fuel_type', 'ext_col', 'int_col']\n",
    "lb = LabelEncoder()\n",
    "\n",
    "for col in categorical_columns:\n",
    "    if col in train_df.columns:\n",
    "        train_df[col] = lb.fit_transform(train_df[col])\n",
    "        test_df[col] = lb.transform(test_df[col])\n",
    "\n"
   ]
  },
  {
   "cell_type": "code",
   "execution_count": null,
   "id": "97cb3af0-98b8-47b6-9635-bda93fc82526",
   "metadata": {},
   "outputs": [],
   "source": [
    "train_df.reset_index(drop=True, inplace=True)"
   ]
  },
  {
   "cell_type": "code",
   "execution_count": null,
   "id": "7e713d56-4951-456e-baf6-3755ed8c124c",
   "metadata": {},
   "outputs": [],
   "source": [
    "\n",
    "\n",
    "plt.figure(figsize=(12, 8))\n",
    "sns.heatmap(train_df.corr(), annot=True, cmap='inferno', fmt='.2f')\n",
    "plt.title('Correlation Heatmap')\n",
    "plt.show()\n",
    "\n"
   ]
  },
  {
   "cell_type": "code",
   "execution_count": null,
   "id": "afa108d2-c482-41df-b786-cbca394175a3",
   "metadata": {},
   "outputs": [],
   "source": [
    "plt.figure(figsize=(10, 6))\n",
    "sns.histplot(train_df['price'], kde=True, color='blue')\n",
    "plt.title('Price Distribution')\n",
    "plt.xlabel('Price')\n",
    "plt.show()"
   ]
  },
  {
   "cell_type": "code",
   "execution_count": null,
   "id": "8066f2db-bbb3-48da-bba2-75a1aaece409",
   "metadata": {},
   "outputs": [],
   "source": [
    "\n",
    "\n",
    "# Log transform the highly skewed target variable (price)\n",
    "train_df['price'] = np.log1p(train_df['price'])\n",
    "\n"
   ]
  },
  {
   "cell_type": "code",
   "execution_count": null,
   "id": "d85eb0a2-3ddc-44ff-aa2c-4e042b33d0a2",
   "metadata": {},
   "outputs": [],
   "source": [
    "\n",
    "\n",
    "plt.figure(figsize=(10, 6))\n",
    "sns.histplot(train_df['price'], kde=True, color='blue')\n",
    "plt.title('Price Distribution')\n",
    "plt.xlabel('Price')\n",
    "plt.show()\n",
    "\n",
    "\n"
   ]
  },
  {
   "cell_type": "code",
   "execution_count": null,
   "id": "c0d0c840-88a3-4d97-9069-20d5ea04dff3",
   "metadata": {},
   "outputs": [],
   "source": [
    "\n",
    "# Set the number of rows and columns for the grid\n",
    "n_rows = 4\n",
    "n_cols = 4\n",
    "\n",
    "# Filter numerical columns only\n",
    "num_columns = train_df.select_dtypes(include=['float64', 'int64']).columns\n",
    "\n",
    "# Create the figure and axes\n",
    "fig, axes = plt.subplots(n_rows, n_cols, figsize=(20, 12))\n",
    "\n",
    "# Flatten axes array to easily iterate over\n",
    "axes = axes.flatten()\n",
    "\n",
    "# Plot each numeric column in a subplot\n",
    "for i, col in enumerate(num_columns):\n",
    "    sns.histplot(train_df[col], kde=True, ax=axes[i], color='blue')\n",
    "    axes[i].set_title(f'Distribution of {col}', fontsize=12)\n",
    "\n",
    "# If there are more subplots than features, remove the extra subplots\n",
    "for j in range(len(num_columns), len(axes)):\n",
    "    fig.delaxes(axes[j])\n",
    "\n",
    "# Adjust layout\n",
    "plt.tight_layout()\n"
   ]
  },
  {
   "cell_type": "markdown",
   "id": "5f6421c6-f21a-4b2f-b5a4-6fc1e50c6a70",
   "metadata": {},
   "source": [
    "## Splitting Datas\n"
   ]
  },
  {
   "cell_type": "code",
   "execution_count": null,
   "id": "3ab8c79a-3e94-43a0-b419-310f8763ab58",
   "metadata": {},
   "outputs": [],
   "source": [
    "X = train_df.drop(['price'],axis=1)\n",
    "y = train_df['price']\n",
    "X.shape, y.shape\n"
   ]
  },
  {
   "cell_type": "code",
   "execution_count": null,
   "id": "fdebb58f-1006-4197-aad7-7b0c2c59f2c0",
   "metadata": {},
   "outputs": [],
   "source": [
    "print(df.columns)"
   ]
  },
  {
   "cell_type": "markdown",
   "id": "ba35ca62-b0d8-4f09-9948-ac4247ea463e",
   "metadata": {},
   "source": [
    "## Scaling datas\n"
   ]
  },
  {
   "cell_type": "code",
   "execution_count": null,
   "id": "e17444dc-f774-4491-bd60-809ffdb3ceea",
   "metadata": {},
   "outputs": [],
   "source": [
    "scaler = StandardScaler()\n",
    "\n",
    "# Scale continuous features\n",
    "continuous_features = ['milage', 'Horsepower', 'Displacement', 'Cylinder Count', 'model_age']\n",
    "train_df[continuous_features] = scaler.fit_transform(train_df[continuous_features])\n",
    "\n",
    "# Scale the same way for the test set\n",
    "test_df[continuous_features] = scaler.transform(test_df[continuous_features])"
   ]
  },
  {
   "cell_type": "code",
   "execution_count": null,
   "id": "94ba7e80-fc87-4cdb-b948-24b5cfe177dd",
   "metadata": {},
   "outputs": [],
   "source": [
    "X_train, X_val, y_train, y_val = train_test_split(X, y, test_size=0.2, random_state=42)\n"
   ]
  },
  {
   "cell_type": "markdown",
   "id": "d5ee212a-3490-4a61-9d0f-c2c242123aff",
   "metadata": {},
   "source": [
    "## Model Building # Linear Regression"
   ]
  },
  {
   "cell_type": "code",
   "execution_count": null,
   "id": "b5773614-b1ba-4b53-b436-295f686cd8c2",
   "metadata": {},
   "outputs": [],
   "source": [
    "# Assuming 'df' is your DataFrame\n",
    "# First, let's see what columns are available\n",
    "print(df.columns)\n",
    "\n",
    "# Identify your target column (let's say it's 'price' for this example)\n",
    "target_column = 'price'  # Replace 'price' with your actual target column name\n",
    "\n",
    "# Select features (X) and target (y)\n",
    "numeric_columns = df.select_dtypes(include=[np.number]).columns\n",
    "X = df[numeric_columns].drop(columns=[target_column], errors='ignore')\n",
    "y = df[target_column]\n",
    "\n",
    "# Now split the data and fit the model\n",
    "X_train, X_val, y_train, y_val = train_test_split(X, y, test_size=0.2, random_state=42)\n",
    "\n",
    "model_lr = LinearRegression()\n",
    "model_lr.fit(X_train, y_train)"
   ]
  },
  {
   "cell_type": "code",
   "execution_count": null,
   "id": "0989eabf-708f-457d-9b09-fd3f0a641e2a",
   "metadata": {},
   "outputs": [],
   "source": [
    "import numpy as np\n",
    "from sklearn.model_selection import train_test_split\n",
    "from sklearn.linear_model import LinearRegression  # This line is corrected\n",
    "\n",
    "# Assuming 'df' is your DataFrame\n",
    "target_column = 'price'\n",
    "\n",
    "# Select features (X) and target (y)\n",
    "numeric_columns = df.select_dtypes(include=[np.number]).columns\n",
    "X = df[numeric_columns].drop(columns=[target_column], errors='ignore')\n",
    "y = df[target_column]\n",
    "\n",
    "# Now split the data and fit the model\n",
    "X_train, X_val, y_train, y_val = train_test_split(X, y, test_size=0.2, random_state=42)\n",
    "\n",
    "model_lr = LinearRegression()\n",
    "model_lr.fit(X_train, y_train)\n",
    "\n",
    "# Predict and evaluate\n",
    "y_pred = model_lr.predict(X_val)\n",
    "rmse = np.sqrt(np.mean((y_pred - y_val)**2))\n",
    "print(f'Linear Regression RMSE: {rmse:.2f}')"
   ]
  },
  {
   "cell_type": "code",
   "execution_count": null,
   "id": "321c0bae-e5ff-4e11-8ff5-67e5ae1c4edf",
   "metadata": {},
   "outputs": [],
   "source": [
    "import numpy as np\n",
    "import pandas as pd\n",
    "from sklearn.model_selection import train_test_split\n",
    "from sklearn.linear_model import LinearRegression\n",
    "from sklearn.preprocessing import OneHotEncoder\n",
    "from sklearn.compose import ColumnTransformer\n",
    "from sklearn.pipeline import Pipeline\n",
    "\n",
    "# Assuming 'df' is your DataFrame\n",
    "target_column = 'price'\n",
    "\n",
    "# Separate features and target\n",
    "X = df.drop(columns=[target_column])\n",
    "y = df[target_column]\n",
    "\n",
    "# Identify column types\n",
    "numeric_features = ['id', 'model_year', 'milage']\n",
    "categorical_features = ['brand', 'fuel_type', 'transmission', 'ext_col', 'int_col']\n",
    "binary_features = ['accident', 'clean_title']\n",
    "\n",
    "# OneHotEncoder for categorical and binary features\n",
    "preprocessor = ColumnTransformer(\n",
    "    transformers=[\n",
    "        ('num', 'passthrough', numeric_features),\n",
    "        ('cat', OneHotEncoder(drop='first', sparse_output=False), categorical_features),\n",
    "        ('bin', OneHotEncoder(drop='first', sparse_output=False), binary_features)\n",
    "    ])\n",
    "\n",
    "# Create pipeline\n",
    "pipeline = Pipeline([\n",
    "    ('preprocessor', preprocessor),\n",
    "    ('regressor', LinearRegression())\n",
    "])\n",
    "\n",
    "# Split the data\n",
    "X_train, X_val, y_train, y_val = train_test_split(X, y, test_size=0.2, random_state=42)\n",
    "\n",
    "# Fit the model\n",
    "pipeline.fit(X_train, y_train)\n",
    "\n",
    "# Predict and evaluate\n",
    "y_pred = pipeline.predict(X_val)\n",
    "rmse = np.sqrt(np.mean((y_pred - y_val)**2))\n",
    "print(f'Linear Regression RMSE: {rmse:.2f}')\n"
   ]
  },
  {
   "cell_type": "code",
   "execution_count": null,
   "id": "5e0dff69-9fa0-4ce3-9696-8b1e6c9cb5c1",
   "metadata": {},
   "outputs": [],
   "source": [
    "\n"
   ]
  },
  {
   "cell_type": "code",
   "execution_count": null,
   "id": "604e535d-884e-40aa-8ec4-b7ef8e1a431e",
   "metadata": {},
   "outputs": [],
   "source": [
    "df = df.head(125690)"
   ]
  },
  {
   "cell_type": "code",
   "execution_count": null,
   "id": "e2b0611e-e25a-4681-ac79-594507370da7",
   "metadata": {},
   "outputs": [],
   "source": []
  },
  {
   "cell_type": "code",
   "execution_count": null,
   "id": "a8f7ec23-693e-440e-98c5-53c839e72bd0",
   "metadata": {},
   "outputs": [],
   "source": [
    "df.to_csv('submission.csv', index=False)"
   ]
  },
  {
   "cell_type": "code",
   "execution_count": 1,
   "id": "a8a9b501-0a73-4745-9c75-727f5ecffa53",
   "metadata": {},
   "outputs": [
    {
     "name": "stdout",
     "output_type": "stream",
     "text": [
      "Note: you may need to restart the kernel to use updated packages.\n"
     ]
    }
   ],
   "source": [
    "pip freeze > requirements.txt\n"
   ]
  }
 ],
 "metadata": {
  "kernelspec": {
   "display_name": "Python 3 (ipykernel)",
   "language": "python",
   "name": "python3"
  },
  "language_info": {
   "codemirror_mode": {
    "name": "ipython",
    "version": 3
   },
   "file_extension": ".py",
   "mimetype": "text/x-python",
   "name": "python",
   "nbconvert_exporter": "python",
   "pygments_lexer": "ipython3",
   "version": "3.12.4"
  }
 },
 "nbformat": 4,
 "nbformat_minor": 5
}
